{
 "cells": [
  {
   "cell_type": "code",
   "execution_count": 1,
   "id": "a3c7ae9f",
   "metadata": {},
   "outputs": [],
   "source": [
    "import cv2,imutils"
   ]
  },
  {
   "cell_type": "code",
   "execution_count": 2,
   "id": "3660c75a",
   "metadata": {},
   "outputs": [
    {
     "data": {
      "text/plain": [
       "-1"
      ]
     },
     "execution_count": 2,
     "metadata": {},
     "output_type": "execute_result"
    }
   ],
   "source": [
    "image = cv2.imread('second.jpg')\n",
    "cv2.imshow(\"first_image\",image)\n",
    "cv2.waitKey(0)"
   ]
  },
  {
   "cell_type": "code",
   "execution_count": 8,
   "id": "1a0e0d9e",
   "metadata": {},
   "outputs": [
    {
     "data": {
      "text/plain": [
       "(960, 1280, 3)"
      ]
     },
     "execution_count": 8,
     "metadata": {},
     "output_type": "execute_result"
    }
   ],
   "source": [
    "image.shape"
   ]
  },
  {
   "cell_type": "code",
   "execution_count": 10,
   "id": "3a4a98b9",
   "metadata": {},
   "outputs": [
    {
     "data": {
      "text/plain": [
       "-1"
      ]
     },
     "execution_count": 10,
     "metadata": {},
     "output_type": "execute_result"
    }
   ],
   "source": [
    "# resizing with ignoring the aspect ratio of the image\n",
    "\n",
    "image2 = cv2.resize(image,(600,600))\n",
    "cv2.imshow(\"resized_image\",image2)\n",
    "cv2.waitKey(0)"
   ]
  },
  {
   "cell_type": "code",
   "execution_count": 4,
   "id": "dee45328",
   "metadata": {},
   "outputs": [
    {
     "data": {
      "text/plain": [
       "-1"
      ]
     },
     "execution_count": 4,
     "metadata": {},
     "output_type": "execute_result"
    }
   ],
   "source": [
    "h,w,c = image.shape\n",
    "\n",
    "aspect_ratio = h/w\n",
    "\n",
    "image3 = cv2.resize(image,(int(300*aspect_ratio),300)) \n",
    "# this shape is reversed by opencv (width, height) unlike the normal shape of image.shape that displays (heigh, width, channel)\n",
    "# therefore, this may confuse \n",
    "cv2.imshow(\"resized2_image\",image3)\n",
    "cv2.waitKey(0)"
   ]
  },
  {
   "cell_type": "code",
   "execution_count": 22,
   "id": "a3ad3d12",
   "metadata": {},
   "outputs": [
    {
     "data": {
      "text/plain": [
       "(960, 1280, 3)"
      ]
     },
     "execution_count": 22,
     "metadata": {},
     "output_type": "execute_result"
    }
   ],
   "source": [
    "image.shape"
   ]
  },
  {
   "cell_type": "code",
   "execution_count": 24,
   "id": "452d2d8d",
   "metadata": {},
   "outputs": [
    {
     "data": {
      "text/plain": [
       "-1"
      ]
     },
     "execution_count": 24,
     "metadata": {},
     "output_type": "execute_result"
    }
   ],
   "source": [
    "cv2.imshow(\"sliced\", image[200:500 , 300:700])\n",
    "cv2.waitKey(0)"
   ]
  },
  {
   "cell_type": "code",
   "execution_count": 19,
   "id": "46d605ae",
   "metadata": {},
   "outputs": [
    {
     "data": {
      "text/plain": [
       "-1"
      ]
     },
     "execution_count": 19,
     "metadata": {},
     "output_type": "execute_result"
    }
   ],
   "source": [
    "w,h,c = image.shape\n",
    "center = w//2, h//2\n",
    "M = cv2.getRotationMatrix2D(center, -45, 0.5)\n",
    "            # center_of_rotation, angle, scale\n",
    "# this method returns an AffineMatrix:\n",
    "#     [[ 3.53553391e-01 -3.53553391e-01  5.36568542e+02]\n",
    "#      [ 3.53553391e-01  3.53553391e-01  2.44020203e+02]]\n",
    "\n",
    "# The following method wraps it to image_matrix that can be displayed\n",
    "\n",
    "rotated = cv2.warpAffine(image, M, (w, h))\n",
    "cv2.imshow(\"rotated\", rotated)\n",
    "cv2.waitKey(0)\n"
   ]
  },
  {
   "cell_type": "markdown",
   "id": "a702bb23",
   "metadata": {},
   "source": [
    ">* In many image processing pipelines, we must `blur` an image to reduce high-frequency noise, making it easier for our algorithms to detect and understand the actual contents of the image rather than just noise that will “confuse” our algorithms."
   ]
  },
  {
   "cell_type": "code",
   "execution_count": null,
   "id": "65a1dd09",
   "metadata": {},
   "outputs": [],
   "source": [
    "blurred = cv2.GaussianBlur(image,(31,31),0)\n",
    "   # source , \"ksize.width\",\"ksize.height\", \n",
    "# both width of the kernel & heigh of the kernel %2 ==1 (odd number) this is in order for the kernel square to have a center pixel.\n",
    "\n",
    "# https://www.youtube.com/watch?v=jCXApg0KDps (avg and Gaussian blur) ... guassian blur differs from avg in that Guassian makes the kernel square values weighted ... not juts 1s like avg\n",
    "# https://www.youtube.com/watch?v=jCXApg0KDps (median and bilateral blur)\n",
    "\n",
    "# bilateral blur is the best but it is slow because it implemnets two gaussian blur one for colors and one for spaces.\n",
    "\n",
    "cv2.imshow(\"blurred\", blurred)\n",
    "cv2.waitKey(0)"
   ]
  },
  {
   "cell_type": "code",
   "execution_count": null,
   "id": "cf55d29c",
   "metadata": {},
   "outputs": [],
   "source": []
  }
 ],
 "metadata": {
  "kernelspec": {
   "display_name": "Python 3",
   "language": "python",
   "name": "python3"
  },
  "language_info": {
   "codemirror_mode": {
    "name": "ipython",
    "version": 3
   },
   "file_extension": ".py",
   "mimetype": "text/x-python",
   "name": "python",
   "nbconvert_exporter": "python",
   "pygments_lexer": "ipython3",
   "version": "3.8.8"
  }
 },
 "nbformat": 4,
 "nbformat_minor": 5
}
