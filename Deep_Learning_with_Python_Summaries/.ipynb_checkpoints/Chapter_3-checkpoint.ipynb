{
 "cells": [
  {
   "cell_type": "markdown",
   "id": "3a939edd",
   "metadata": {},
   "source": [
    "# Chapter_3:"
   ]
  },
  {
   "cell_type": "markdown",
   "id": "1fafd125",
   "metadata": {},
   "source": [
    "## Tensorflow & Keras:\n",
    "**`Tensorflow`** is a machine learning platform. Much like NumPy, the primary purpose of TensorFlow is to manipulate mathematical expressions over numerical tensors. But it differs from Numpy in:\n",
    ">>* It can **automatically compute the gradient of any differentiable expression**, making it highly suitable for machine learning.\n",
    ">>* It can **run not only on CPUs**, but also on GPUs and TPUs, highly parallel hardware accelerators.\n",
    ">>* Computation defined in TensorFlow can be easily distributed across many machine.\n",
    ">>* TensorFlow programs can be exported to other runtimes, such as `C++, JavaScript (for browser-based applications)`, or **`TensorFlow Lite (for applications running on mobile devices or embe>* dded devices)`**, etc.\n",
    "\n",
    ">* **`It’s important to keep in mind that TensorFlow is much more than a single library.`** It’s really a platform, home to a vast ecosystem of components, some developed by Google and some developed by third parties. For instance, there’s TF-Agents for reinforcement-learning research, TFX for industry-strength machine learning workflow management, TensorFlow Serving for production deployment, and there’s the TensorFlow Hub repository of pretrained models. Together, these components cover a very wide range of use cases, from cutting-edge research to large-scale production applications.\n",
    "\n",
    "\n",
    ">* `**Keras**` is a deep learning API for Python, built on top of TensorFlow, that provides a convenient way to define and train any kind of deep learning model. **`Keras was initially developed for research, with the aim of enabling fast deep learning experimentation.`** (Because it is high-level of abstraction, focus on the idea not on the implementation like Tensorflow which is low-level abstraction.)\n",
    "\n",
    "\n",
    ">* **`Through TensorFlow, Keras can run on top of different types of hardware`** —GPU, TPU, or plain CPU—and can be seamlessly scaled to thousands of machines.\n",
    "\n",
    ">* `Keras` is an API for human beings, not machines. It follows best practices for reducing cognitive load: it offers consistent and simple workflows, it minimizes the number of actions required for common use cases, and it provides clear and actionable feedback upon user error. This makes Keras easy to learn for a beginner, and highly productive to use for an expert.\n",
    "\n",
    ">* You could use **`Keras`** as you would use `Scikit-learn`—**just calling `fit()`** and letting the framework do its thing—or you could be using it `like NumPy`—**taking full control of every little detail.**"
   ]
  },
  {
   "cell_type": "markdown",
   "id": "431399fa",
   "metadata": {},
   "source": [
    "## Starting deep learning project:\n",
    ">* It’s highly recommended, although not strictly necessary, that you run deep learning code on a modern NVIDIA GPU rather than your computer’s CPU. **Some applications—in particular, image processing with convolutional networks—will be excruciatingly slow on CPU, even a fast multicore CPU.** And even for applications that can realistically be run on CPU, you’ll generally see the speed increase by a factor of 5 or 10 by using a recent GPU.\n",
    "\n",
    ">* It is better to run your environemnt **on a Unix workstation**. You cans et up an `Ubuntu dual boot` on your machine, or to leverage `Windows Subsystem for Linux (WSL)`."
   ]
  },
  {
   "cell_type": "code",
   "execution_count": null,
   "id": "48cf2109",
   "metadata": {},
   "outputs": [],
   "source": []
  }
 ],
 "metadata": {
  "kernelspec": {
   "display_name": "Python 3 (ipykernel)",
   "language": "python",
   "name": "python3"
  },
  "language_info": {
   "codemirror_mode": {
    "name": "ipython",
    "version": 3
   },
   "file_extension": ".py",
   "mimetype": "text/x-python",
   "name": "python",
   "nbconvert_exporter": "python",
   "pygments_lexer": "ipython3",
   "version": "3.10.4"
  }
 },
 "nbformat": 4,
 "nbformat_minor": 5
}
