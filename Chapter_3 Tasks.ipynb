{
 "cells": [
  {
   "cell_type": "markdown",
   "id": "e4506765",
   "metadata": {},
   "source": [
    "# 1st Task:"
   ]
  },
  {
   "cell_type": "code",
   "execution_count": 3,
   "id": "81a64fd4",
   "metadata": {},
   "outputs": [],
   "source": [
    "import pandas as pd\n",
    "import matplotlib.pyplot as plt\n",
    "import numpy as np\n"
   ]
  },
  {
   "cell_type": "code",
   "execution_count": 4,
   "id": "ed152025",
   "metadata": {},
   "outputs": [],
   "source": [
    "from sklearn.datasets import fetch_openml\n",
    "\n",
    "x = fetch_openml('mnist_784', as_frame = False)\n",
    "X = x.data \n",
    "y = x.target"
   ]
  },
  {
   "cell_type": "code",
   "execution_count": 3,
   "id": "2ea04cc1",
   "metadata": {},
   "outputs": [],
   "source": [
    "x_train, x_test, y_train, y_test = X[:60000] , X[60000:] , y[:60000], y[60000:]  "
   ]
  },
  {
   "cell_type": "code",
   "execution_count": 4,
   "id": "443812a8",
   "metadata": {},
   "outputs": [
    {
     "data": {
      "text/plain": [
       "0.9819166666666667"
      ]
     },
     "execution_count": 4,
     "metadata": {},
     "output_type": "execute_result"
    }
   ],
   "source": [
    "from sklearn.neighbors import KNeighborsClassifier\n",
    "knn_clf = KNeighborsClassifier()\n",
    "knn_clf.fit(x_train,y_train)\n",
    "knn_clf.score(x_train,y_train)\n",
    "\n",
    "# train_accuracy (multi-classification task)"
   ]
  },
  {
   "cell_type": "code",
   "execution_count": 5,
   "id": "ca92f73d",
   "metadata": {},
   "outputs": [
    {
     "data": {
      "text/plain": [
       "array([0.9676 , 0.9671 , 0.96755])"
      ]
     },
     "execution_count": 5,
     "metadata": {},
     "output_type": "execute_result"
    }
   ],
   "source": [
    "from sklearn.model_selection import cross_val_score\n",
    "\n",
    "cross_val_score(knn_clf, x_train, y_train, cv=3, scoring = 'accuracy')\n"
   ]
  },
  {
   "cell_type": "code",
   "execution_count": 6,
   "id": "9d043b94",
   "metadata": {},
   "outputs": [
    {
     "data": {
      "text/plain": [
       "GridSearchCV(cv=3, estimator=KNeighborsClassifier(),\n",
       "             param_grid=[{'n_neighbors': [3, 4, 6, 7],\n",
       "                          'weights': ['uniform', 'distance']}],\n",
       "             scoring='neg_root_mean_squared_error')"
      ]
     },
     "execution_count": 6,
     "metadata": {},
     "output_type": "execute_result"
    }
   ],
   "source": [
    "from sklearn.model_selection import GridSearchCV\n",
    "\n",
    "grid_param = [ {'weights' : ['uniform', 'distance'],\n",
    "                'n_neighbors' : [3,4,6,7]}\n",
    "             ]\n",
    "\n",
    "g= GridSearchCV(knn_clf, grid_param, cv =3, scoring = 'neg_root_mean_squared_error')\n",
    "g.fit(x_train,y_train)"
   ]
  },
  {
   "cell_type": "code",
   "execution_count": 7,
   "id": "cf0162ed",
   "metadata": {},
   "outputs": [
    {
     "data": {
      "text/plain": [
       "{'n_neighbors': 4, 'weights': 'distance'}"
      ]
     },
     "execution_count": 7,
     "metadata": {},
     "output_type": "execute_result"
    }
   ],
   "source": [
    "g.best_params_"
   ]
  },
  {
   "cell_type": "code",
   "execution_count": 17,
   "id": "c4f6c341",
   "metadata": {},
   "outputs": [
    {
     "data": {
      "text/plain": [
       "0.9714"
      ]
     },
     "execution_count": 17,
     "metadata": {},
     "output_type": "execute_result"
    }
   ],
   "source": [
    "g.best_estimator_.fit(x_train,y_train)\n",
    "g.best_estimator_.score(x_test,y_test)"
   ]
  },
  {
   "cell_type": "code",
   "execution_count": null,
   "id": "68b1d364",
   "metadata": {},
   "outputs": [],
   "source": [
    "# clever idea if I want to unpack a dictionay: (If I want to use the best_parameter value)\n",
    "\n",
    "knn_clf = KNeighborsClassifier(**g.best_params_)\n"
   ]
  },
  {
   "cell_type": "markdown",
   "id": "1f906fdf",
   "metadata": {},
   "source": [
    "_________________________\n",
    "# 2nd Task:"
   ]
  },
  {
   "cell_type": "code",
   "execution_count": 5,
   "id": "e477d037",
   "metadata": {},
   "outputs": [],
   "source": [
    "import numpy as np\n",
    "import matplotlib.pyplot as plt\n",
    "from sklearn.datasets import fetch_openml\n",
    "\n",
    "x = fetch_openml('mnist_784', as_frame = False)"
   ]
  },
  {
   "cell_type": "code",
   "execution_count": 68,
   "id": "8cccc5a6",
   "metadata": {},
   "outputs": [],
   "source": [
    "x_train, x_test, y_train, y_test = x.data[:60_000] , x.data[60_000:], x.target[:60_000], x.target[60_000:]"
   ]
  },
  {
   "cell_type": "code",
   "execution_count": 9,
   "id": "12932908",
   "metadata": {},
   "outputs": [],
   "source": [
    "img = x_train[0].reshape(28,28)"
   ]
  },
  {
   "cell_type": "code",
   "execution_count": 10,
   "id": "e43e3c0b",
   "metadata": {},
   "outputs": [
    {
     "data": {
      "text/plain": [
       "<matplotlib.image.AxesImage at 0x257801b0af0>"
      ]
     },
     "execution_count": 10,
     "metadata": {},
     "output_type": "execute_result"
    },
    {
     "data": {
      "image/png": "[encoded data removed]",
      "text/plain": [
       "<Figure size 432x288 with 1 Axes>"
      ]
     },
     "metadata": {
      "needs_background": "light"
     },
     "output_type": "display_data"
    }
   ],
   "source": [
    "plt.imshow(img)"
   ]
  },
  {
   "cell_type": "code",
   "execution_count": 43,
   "id": "3797ee0f",
   "metadata": {},
   "outputs": [
    {
     "data": {
      "text/plain": [
       "<matplotlib.image.AxesImage at 0x257eb0495e0>"
      ]
     },
     "execution_count": 43,
     "metadata": {},
     "output_type": "execute_result"
    },
    {
     "data": {
      "image/png": "[encoded data removed]",
      "text/plain": [
       "<Figure size 432x288 with 1 Axes>"
      ]
     },
     "metadata": {
      "needs_background": "light"
     },
     "output_type": "display_data"
    }
   ],
   "source": [
    "np.random.seed(2)\n",
    "a = np.random.randint(1,10,(3,3))\n",
    "\n",
    "def shift_image(img, n_pixels, shift):\n",
    "    i = n_pixels\n",
    "    \n",
    "    if shift == 'right':\n",
    "        shifted_img = np.concatenate((np.zeros((28,int(f\"{i}\")),dtype='int') , img[: , : -int(f\"{i}\")] ),axis=1)\n",
    "        return shifted_img\n",
    "    elif shift == 'left':\n",
    "        shifted_img = np.concatenate((img[: , int(f\"{i}\") : ], np.zeros((28,int(f\"{i}\")),dtype='int') ),axis=1)\n",
    "        return shifted_img\n",
    "    elif shift == 'up':\n",
    "        shifted_img = np.concatenate((img[int(f\"{i}\") : , : ], np.zeros((int(f\"{i}\"),28),dtype='int') ),axis=0)\n",
    "        return shifted_img\n",
    "    elif shift == 'down':\n",
    "        shifted_img = np.concatenate((np.zeros((int(f\"{i}\"),28),dtype='int'), img[:-int(f\"{i}\") , : ] ),axis=0)\n",
    "        return shifted_img\n",
    "    \n",
    "plt.imshow( shift_image(img,3,'down'),cmap=\"Greys\" )"
   ]
  },
  {
   "cell_type": "code",
   "execution_count": null,
   "id": "9a51c514",
   "metadata": {},
   "outputs": [],
   "source": [
    "from scipy.ndimage import shift\n",
    "\n",
    "def shift_image(image, dy, dx):\n",
    "    img = image.reshape(28,28)\n",
    "    sh_img = shift(img,[dy,dx], cval = 0, mode ='constant')\n",
    "    return sh_img.reshape([-1])\n",
    "\n",
    "x_train_augmented = [image for image in x_train]\n",
    "y_train_augmented = [label for label in y_train]\n",
    "\n",
    "for dy,dx in ((-1,0), (1,0), (0,-1), (0,1)):\n",
    "    for img,label in zip(x_train,y_train):\n",
    "        x_train_augmented.append(shift_image(img, dy, dx ))\n",
    "        y_train_augmented.append(label)\n",
    "\n",
    "x_train = np.array(x_train_augmented)\n",
    "y_train = np.array(y_train_augmented)"
   ]
  },
  {
   "cell_type": "code",
   "execution_count": null,
   "id": "5669cb0b",
   "metadata": {},
   "outputs": [],
   "source": [
    "shuffle_idx = np.random.permutation(len(X_train_augmented))\n",
    "X_train_augmented = X_train_augmented[shuffle_idx]\n",
    "y_train_augmented = y_train_augmented[shuffle_idx]"
   ]
  },
  {
   "cell_type": "code",
   "execution_count": null,
   "id": "d8c642e2",
   "metadata": {},
   "outputs": [],
   "source": [
    "knn_clf = KNeighborsClassifier(**grid_search.best_params_)\n",
    "\n",
    "knn_clf.fit(X_train_augmented, y_train_augmented)\n",
    "\n",
    "augmented_accuracy = knn_clf.score(X_test, y_test)\n",
    "augmented_accuracy"
   ]
  },
  {
   "cell_type": "markdown",
   "id": "fa112856",
   "metadata": {},
   "source": [
    "_________________________\n",
    "# 3nd Task: (Titanic)"
   ]
  },
  {
   "cell_type": "code",
   "execution_count": null,
   "id": "270cd22d",
   "metadata": {},
   "outputs": [],
   "source": [
    "link:\n",
    "    http://localhost:8889/notebooks/Titanic_data_machine_leaning_classification.ipynb "
   ]
  }
 ],
 "metadata": {
  "kernelspec": {
   "display_name": "Python 3",
   "language": "python",
   "name": "python3"
  },
  "language_info": {
   "codemirror_mode": {
    "name": "ipython",
    "version": 3
   },
   "file_extension": ".py",
   "mimetype": "text/x-python",
   "name": "python",
   "nbconvert_exporter": "python",
   "pygments_lexer": "ipython3",
   "version": "3.8.8"
  }
 },
 "nbformat": 4,
 "nbformat_minor": 5
}
